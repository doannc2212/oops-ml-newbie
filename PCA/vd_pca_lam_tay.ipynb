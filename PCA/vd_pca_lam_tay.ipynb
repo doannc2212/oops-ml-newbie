{
 "cells": [
  {
   "cell_type": "markdown",
   "metadata": {},
   "source": [
    "## Ví dụ 1: PCA tính tay"
   ]
  },
  {
   "cell_type": "code",
   "execution_count": 1,
   "metadata": {},
   "outputs": [],
   "source": [
    "import numpy as np"
   ]
  },
  {
   "cell_type": "code",
   "execution_count": 2,
   "metadata": {},
   "outputs": [
    {
     "data": {
      "text/plain": [
       "(3000, 30)"
      ]
     },
     "execution_count": 2,
     "metadata": {},
     "output_type": "execute_result"
    }
   ],
   "source": [
    "np.random.seed(1)\n",
    "A = np.random.randint(1,256,(3000,30))\n",
    "A.shape"
   ]
  },
  {
   "cell_type": "code",
   "execution_count": 3,
   "metadata": {},
   "outputs": [
    {
     "data": {
      "text/plain": [
       "array([128.09133333, 130.39566667, 128.62      , 126.33833333,\n",
       "       128.00633333, 126.30066667, 126.85      , 128.85733333,\n",
       "       129.31566667, 127.275     , 128.82733333, 129.38233333,\n",
       "       127.68      , 125.91666667, 125.729     , 128.06233333,\n",
       "       128.43533333, 127.084     , 130.33      , 127.43366667,\n",
       "       130.89633333, 128.918     , 129.65033333, 130.492     ,\n",
       "       129.375     , 128.05566667, 127.61633333, 126.26433333,\n",
       "       129.94466667, 127.65      ])"
      ]
     },
     "execution_count": 3,
     "metadata": {},
     "output_type": "execute_result"
    }
   ],
   "source": [
    "# colmns' means\n",
    "M = np.mean(A, axis = 0)\n",
    "M"
   ]
  },
  {
   "cell_type": "code",
   "execution_count": 4,
   "metadata": {},
   "outputs": [],
   "source": [
    "# center columns by subtracting column means\n",
    "C = A - M"
   ]
  },
  {
   "cell_type": "code",
   "execution_count": 5,
   "metadata": {},
   "outputs": [],
   "source": [
    "# calculate covariance matrix of centered matrix\n",
    "V = np.cov(C.T)"
   ]
  },
  {
   "cell_type": "code",
   "execution_count": 9,
   "metadata": {},
   "outputs": [
    {
     "data": {
      "text/plain": [
       "(30, 30)"
      ]
     },
     "execution_count": 9,
     "metadata": {},
     "output_type": "execute_result"
    }
   ],
   "source": [
    "# factorize covariance matrix\n",
    "values, vectors = np.linalg.eig(V)\n",
    "vectors.shape"
   ]
  },
  {
   "cell_type": "code",
   "execution_count": 7,
   "metadata": {},
   "outputs": [],
   "source": [
    "# chọn k thành phần chính\n",
    "k = 2\n",
    "V_T = vectors.T\n",
    "V_T = V_T[:k,:] # thu hẹp k dòng"
   ]
  },
  {
   "cell_type": "code",
   "execution_count": 8,
   "metadata": {},
   "outputs": [
    {
     "data": {
      "text/plain": [
       "array([[ -49.66791616, -148.60820328],\n",
       "       [-165.27752498,  -41.3379383 ],\n",
       "       [ -67.51206952,  195.86911563],\n",
       "       ...,\n",
       "       [ 138.67671615, -107.71755625],\n",
       "       [  -5.83064159,   77.5591044 ],\n",
       "       [  90.71165207,  164.43817566]])"
      ]
     },
     "execution_count": 8,
     "metadata": {},
     "output_type": "execute_result"
    }
   ],
   "source": [
    "# project data\n",
    "P = V_T.dot(C.T)\n",
    "P.T"
   ]
  },
  {
   "cell_type": "code",
   "execution_count": null,
   "metadata": {},
   "outputs": [],
   "source": []
  },
  {
   "cell_type": "code",
   "execution_count": null,
   "metadata": {},
   "outputs": [],
   "source": []
  }
 ],
 "metadata": {
  "kernelspec": {
   "display_name": "Python 3",
   "language": "python",
   "name": "python3"
  },
  "language_info": {
   "codemirror_mode": {
    "name": "ipython",
    "version": 3
   },
   "file_extension": ".py",
   "mimetype": "text/x-python",
   "name": "python",
   "nbconvert_exporter": "python",
   "pygments_lexer": "ipython3",
   "version": "3.8.2"
  }
 },
 "nbformat": 4,
 "nbformat_minor": 2
}
