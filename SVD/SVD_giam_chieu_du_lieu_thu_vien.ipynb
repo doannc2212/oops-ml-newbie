{
 "cells": [
  {
   "cell_type": "code",
   "execution_count": 4,
   "metadata": {},
   "outputs": [],
   "source": [
    "import numpy as np\n",
    "from sklearn.decomposition import TruncatedSVD\n",
    "from scipy.linalg import inv"
   ]
  },
  {
   "cell_type": "code",
   "execution_count": 3,
   "metadata": {},
   "outputs": [
    {
     "name": "stdout",
     "output_type": "stream",
     "text": [
      "A=\n",
      "[[ 1  2  3  4  5  6  7  8  9 10]\n",
      " [11 12 13 14 15 16 17 18 19 20]\n",
      " [21 22 23 24 25 26 27 28 29 30]]\n",
      "\n",
      "T=\n",
      "[[18.52157747  6.47697214]\n",
      " [49.81310011  1.91182038]\n",
      " [81.10462276 -2.65333138]]\n"
     ]
    }
   ],
   "source": [
    "# sử dụng thư viện để giảm chiều dữ liệu\n",
    "# define array\n",
    "A = np.arange(1,31)\n",
    "A = np.reshape(A,(3,10))\n",
    "print('A=')\n",
    "print(A)\n",
    "# svd\n",
    "svd = TruncatedSVD(n_components=2)\n",
    "svd.fit(A)\n",
    "print('\\nT=')\n",
    "T = svd.transform(A)\n",
    "print(T)"
   ]
  },
  {
   "cell_type": "code",
   "execution_count": 3,
   "metadata": {},
   "outputs": [],
   "source": [
    "from sklearn import datasets"
   ]
  },
  {
   "cell_type": "code",
   "execution_count": 11,
   "metadata": {},
   "outputs": [
    {
     "data": {
      "text/plain": [
       "(1797, 64)"
      ]
     },
     "execution_count": 11,
     "metadata": {},
     "output_type": "execute_result"
    }
   ],
   "source": [
    "digits = datasets.load_digits()\n",
    "X = digits.data\n",
    "X.shape # 1797 dòng và 64 cột"
   ]
  },
  {
   "cell_type": "code",
   "execution_count": 12,
   "metadata": {},
   "outputs": [
    {
     "name": "stdout",
     "output_type": "stream",
     "text": [
      "\n",
      "result=\n",
      "[[ 45.86127719  -1.1921159   21.10005922 ...   0.39676545   1.30997815\n",
      "   -1.39000658]\n",
      " [ 55.52967927   7.86176976 -20.48719881 ...   1.53818943  -4.73674322\n",
      "    3.41005503]\n",
      " [ 55.8278837    6.91459585  -9.66245268 ...   2.29645165 -16.8433059\n",
      "   -1.12374233]\n",
      " ...\n",
      " [ 65.52698526  10.65872859  -6.29456061 ...  -2.30209756  -4.47331665\n",
      "   -1.72414295]\n",
      " [ 58.60616587  -4.91125238  12.723152   ...   0.50970698  -1.63373454\n",
      "    6.44117825]\n",
      " [ 64.44823101  -0.45551341   7.04184366 ...  -8.30355896   3.37801283\n",
      "   -1.41471833]]\n"
     ]
    }
   ],
   "source": [
    "svd = TruncatedSVD(n_components=10)\n",
    "svd.fit(X)\n",
    "print('\\nresult=')\n",
    "result = svd.transform(X)\n",
    "print(result)"
   ]
  },
  {
   "cell_type": "code",
   "execution_count": 13,
   "metadata": {},
   "outputs": [
    {
     "name": "stdout",
     "output_type": "stream",
     "text": [
      "(1797, 10)\n"
     ]
    }
   ],
   "source": [
    "print(result.shape)"
   ]
  },
  {
   "cell_type": "code",
   "execution_count": null,
   "metadata": {},
   "outputs": [],
   "source": []
  }
 ],
 "metadata": {
  "kernelspec": {
   "display_name": "Python 3",
   "language": "python",
   "name": "python3"
  },
  "language_info": {
   "codemirror_mode": {
    "name": "ipython",
    "version": 3
   },
   "file_extension": ".py",
   "mimetype": "text/x-python",
   "name": "python",
   "nbconvert_exporter": "python",
   "pygments_lexer": "ipython3",
   "version": "3.6.8"
  }
 },
 "nbformat": 4,
 "nbformat_minor": 2
}
