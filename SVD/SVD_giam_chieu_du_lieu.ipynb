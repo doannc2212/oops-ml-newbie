{
 "cells": [
  {
   "cell_type": "code",
   "execution_count": 6,
   "metadata": {},
   "outputs": [],
   "source": [
    "import numpy as np\n",
    "from numpy import array\n",
    "from numpy import diag\n",
    "from numpy import dot\n",
    "from scipy.linalg import svd\n",
    "from numpy import zeros\n",
    "from scipy.linalg import inv"
   ]
  },
  {
   "cell_type": "markdown",
   "metadata": {},
   "source": [
    "# Sử dụng SVD để giảm chiều dữ liệu\n",
    "- Số thuộc tính (cột) lớn hơn số quan sát (dòng) rất nhiều\n",
    "- Tạo ra một ma trận có chiều thấp hơn so với chiều của ma trận gốc"
   ]
  },
  {
   "cell_type": "code",
   "execution_count": 7,
   "metadata": {},
   "outputs": [
    {
     "data": {
      "text/plain": [
       "array([[ 1,  2,  3,  4,  5,  6,  7,  8,  9, 10],\n",
       "       [11, 12, 13, 14, 15, 16, 17, 18, 19, 20],\n",
       "       [21, 22, 23, 24, 25, 26, 27, 28, 29, 30]])"
      ]
     },
     "execution_count": 7,
     "metadata": {},
     "output_type": "execute_result"
    }
   ],
   "source": [
    "A = np.arange(1,31)\n",
    "A = np.reshape(A,(3,10))\n",
    "A"
   ]
  },
  {
   "cell_type": "code",
   "execution_count": 8,
   "metadata": {},
   "outputs": [],
   "source": [
    "U, s, V_T = svd(A)"
   ]
  },
  {
   "cell_type": "code",
   "execution_count": 9,
   "metadata": {},
   "outputs": [
    {
     "data": {
      "text/plain": [
       "array([[-0.19101157,  0.89266338,  0.40824829],\n",
       "       [-0.51371859,  0.26348917, -0.81649658],\n",
       "       [-0.8364256 , -0.36568503,  0.40824829]])"
      ]
     },
     "execution_count": 9,
     "metadata": {},
     "output_type": "execute_result"
    }
   ],
   "source": [
    "U"
   ]
  },
  {
   "cell_type": "code",
   "execution_count": 10,
   "metadata": {},
   "outputs": [
    {
     "data": {
      "text/plain": [
       "array([[9.69657342e+01, 0.00000000e+00, 0.00000000e+00, 0.00000000e+00,\n",
       "        0.00000000e+00, 0.00000000e+00, 0.00000000e+00, 0.00000000e+00,\n",
       "        0.00000000e+00, 0.00000000e+00],\n",
       "       [0.00000000e+00, 7.25578339e+00, 0.00000000e+00, 0.00000000e+00,\n",
       "        0.00000000e+00, 0.00000000e+00, 0.00000000e+00, 0.00000000e+00,\n",
       "        0.00000000e+00, 0.00000000e+00],\n",
       "       [0.00000000e+00, 0.00000000e+00, 5.43064394e-15, 0.00000000e+00,\n",
       "        0.00000000e+00, 0.00000000e+00, 0.00000000e+00, 0.00000000e+00,\n",
       "        0.00000000e+00, 0.00000000e+00]])"
      ]
     },
     "execution_count": 10,
     "metadata": {},
     "output_type": "execute_result"
    }
   ],
   "source": [
    "S = zeros(A.shape)\n",
    "S[:A.shape[0],:A.shape[0]] = diag(s)\n",
    "S"
   ]
  },
  {
   "cell_type": "code",
   "execution_count": 11,
   "metadata": {},
   "outputs": [
    {
     "data": {
      "text/plain": [
       "array([[-0.24139304, -0.25728686, -0.27318068, -0.2890745 , -0.30496832,\n",
       "        -0.32086214, -0.33675595, -0.35264977, -0.36854359, -0.38443741],\n",
       "       [-0.53589546, -0.42695236, -0.31800926, -0.20906617, -0.10012307,\n",
       "         0.00882003,  0.11776313,  0.22670623,  0.33564933,  0.44459242],\n",
       "       [-0.71590327,  0.22125777,  0.35844894,  0.23137425,  0.12099174,\n",
       "         0.27768425, -0.35015608,  0.05691924, -0.00338669, -0.19723014],\n",
       "       [-0.03274747, -0.17891449, -0.37608172,  0.89207072, -0.08211107,\n",
       "        -0.11995167,  0.02920549, -0.06831525, -0.05443306, -0.00872147],\n",
       "       [-0.07588946, -0.05763181, -0.30552732, -0.08865234,  0.92223855,\n",
       "        -0.12098055, -0.00525156, -0.09919877, -0.09845351, -0.07065325],\n",
       "       [ 0.06629874,  0.08438747, -0.47449715, -0.0967393 , -0.08248279,\n",
       "         0.8362855 ,  0.03555043, -0.13520148, -0.138849  , -0.09475243],\n",
       "       [-0.33592049,  0.16549299,  0.06013546, -0.02444478, -0.06055817,\n",
       "        -0.0839398 ,  0.85527901, -0.15616659, -0.18989278, -0.22998484],\n",
       "       [-0.01998524,  0.32695283, -0.33338835, -0.05818541, -0.07378355,\n",
       "        -0.16577225, -0.03336365,  0.80303148, -0.22688989, -0.21861597],\n",
       "       [-0.02837782,  0.45212363, -0.30774474, -0.0440392 , -0.07113473,\n",
       "        -0.17462083, -0.05370963, -0.22881189,  0.72976934, -0.27345413],\n",
       "       [-0.12943549,  0.56692612, -0.16233901, -0.01621103, -0.06395043,\n",
       "        -0.16261688, -0.11168512, -0.25809567, -0.31538389,  0.65279141]])"
      ]
     },
     "execution_count": 11,
     "metadata": {},
     "output_type": "execute_result"
    }
   ],
   "source": [
    "V_T # V_T.T = V"
   ]
  },
  {
   "cell_type": "code",
   "execution_count": 12,
   "metadata": {},
   "outputs": [
    {
     "data": {
      "text/plain": [
       "array([[96.96573419,  0.        ],\n",
       "       [ 0.        ,  7.25578339],\n",
       "       [ 0.        ,  0.        ]])"
      ]
     },
     "execution_count": 12,
     "metadata": {},
     "output_type": "execute_result"
    }
   ],
   "source": [
    "k = 2 # chọn ra 2 cột\n",
    "S = S[:,:k] # thu hẹp k cột\n",
    "S"
   ]
  },
  {
   "cell_type": "code",
   "execution_count": 13,
   "metadata": {},
   "outputs": [
    {
     "data": {
      "text/plain": [
       "array([[-0.24139304, -0.25728686, -0.27318068, -0.2890745 , -0.30496832,\n",
       "        -0.32086214, -0.33675595, -0.35264977, -0.36854359, -0.38443741],\n",
       "       [-0.53589546, -0.42695236, -0.31800926, -0.20906617, -0.10012307,\n",
       "         0.00882003,  0.11776313,  0.22670623,  0.33564933,  0.44459242]])"
      ]
     },
     "execution_count": 13,
     "metadata": {},
     "output_type": "execute_result"
    }
   ],
   "source": [
    "V_T = V_T[:k,:] # thu hẹp k dòng\n",
    "V_T"
   ]
  },
  {
   "cell_type": "code",
   "execution_count": 153,
   "metadata": {},
   "outputs": [
    {
     "data": {
      "text/plain": [
       "array([[ 1.,  2.,  3.,  4.,  5.,  6.,  7.,  8.,  9., 10.],\n",
       "       [11., 12., 13., 14., 15., 16., 17., 18., 19., 20.],\n",
       "       [21., 22., 23., 24., 25., 26., 27., 28., 29., 30.]])"
      ]
     },
     "execution_count": 153,
     "metadata": {},
     "output_type": "execute_result"
    }
   ],
   "source": [
    "# tạo lại ma trận A = U.S.V_T\n",
    "U.dot(S.dot(V_T))"
   ]
  },
  {
   "cell_type": "code",
   "execution_count": 154,
   "metadata": {},
   "outputs": [
    {
     "data": {
      "text/plain": [
       "array([[-18.52157747,   6.47697214],\n",
       "       [-49.81310011,   1.91182038],\n",
       "       [-81.10462276,  -2.65333138]])"
      ]
     },
     "execution_count": 154,
     "metadata": {},
     "output_type": "execute_result"
    }
   ],
   "source": [
    "# so sánh U.S = A.V do V là ma trận trực giao\n",
    "U.dot(S)"
   ]
  },
  {
   "cell_type": "code",
   "execution_count": 155,
   "metadata": {},
   "outputs": [
    {
     "data": {
      "text/plain": [
       "array([[-18.52157747,   6.47697214],\n",
       "       [-49.81310011,   1.91182038],\n",
       "       [-81.10462276,  -2.65333138]])"
      ]
     },
     "execution_count": 155,
     "metadata": {},
     "output_type": "execute_result"
    }
   ],
   "source": [
    "A.dot(V_T.T)"
   ]
  },
  {
   "cell_type": "code",
   "execution_count": null,
   "metadata": {},
   "outputs": [],
   "source": []
  }
 ],
 "metadata": {
  "kernelspec": {
   "display_name": "Python 3",
   "language": "python",
   "name": "python3"
  },
  "language_info": {
   "codemirror_mode": {
    "name": "ipython",
    "version": 3
   },
   "file_extension": ".py",
   "mimetype": "text/x-python",
   "name": "python",
   "nbconvert_exporter": "python",
   "pygments_lexer": "ipython3",
   "version": "3.6.8"
  }
 },
 "nbformat": 4,
 "nbformat_minor": 2
}
